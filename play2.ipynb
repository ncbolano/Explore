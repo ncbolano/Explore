{
 "cells": [
  {
   "cell_type": "code",
   "execution_count": null,
   "id": "ec032a0b",
   "metadata": {},
   "outputs": [],
   "source": [
    "import yfinance as yf\n",
    "import pandas as pd\n",
    "import matplotlib.pyplot as plt\n",
    "import seaborn as sns\n",
    "import numpy as np\n"
   ]
  },
  {
   "cell_type": "code",
   "execution_count": 75,
   "id": "508e81de",
   "metadata": {},
   "outputs": [
    {
     "name": "stderr",
     "output_type": "stream",
     "text": [
      "C:\\Users\\Ben\\AppData\\Local\\Temp\\ipykernel_1712\\1427075461.py:1: FutureWarning: YF.download() has changed argument auto_adjust default to True\n",
      "  spy = yf.download('SPY', period='1wk', interval='1m')\n",
      "[*********************100%***********************]  1 of 1 completed"
     ]
    },
    {
     "name": "stdout",
     "output_type": "stream",
     "text": [
      "Price                           Close        High         Low        Open  \\\n",
      "Datetime                                                                    \n",
      "2025-06-16 13:30:00+00:00  600.960022  600.960022  600.219971  600.400024   \n",
      "2025-06-16 13:31:00+00:00  601.150024  601.280029  600.929993  600.969971   \n",
      "2025-06-16 13:32:00+00:00  601.200012  601.530029  601.140015  601.140015   \n",
      "2025-06-16 13:33:00+00:00  601.479980  601.500000  601.190002  601.210022   \n",
      "2025-06-16 13:34:00+00:00  601.525024  601.549988  601.370117  601.489990   \n",
      "...                               ...         ...         ...         ...   \n",
      "2025-06-20 19:55:00+00:00  594.669983  594.969971  594.169983  594.200012   \n",
      "2025-06-20 19:56:00+00:00  594.549988  594.880005  594.530029  594.669983   \n",
      "2025-06-20 19:57:00+00:00  594.135193  594.580017  594.109985  594.554993   \n",
      "2025-06-20 19:58:00+00:00  594.164978  594.270020  594.109985  594.140015   \n",
      "2025-06-20 19:59:00+00:00  594.219971  594.549988  593.780029  594.159973   \n",
      "\n",
      "Price                       Volume  \n",
      "Datetime                            \n",
      "2025-06-16 13:30:00+00:00  2415426  \n",
      "2025-06-16 13:31:00+00:00   391986  \n",
      "2025-06-16 13:32:00+00:00   393282  \n",
      "2025-06-16 13:33:00+00:00   400539  \n",
      "2025-06-16 13:34:00+00:00   266812  \n",
      "...                            ...  \n",
      "2025-06-20 19:55:00+00:00   963929  \n",
      "2025-06-20 19:56:00+00:00   586452  \n",
      "2025-06-20 19:57:00+00:00   848259  \n",
      "2025-06-20 19:58:00+00:00   896655  \n",
      "2025-06-20 19:59:00+00:00  2621220  \n",
      "\n",
      "[1543 rows x 5 columns]\n"
     ]
    },
    {
     "name": "stderr",
     "output_type": "stream",
     "text": [
      "\n"
     ]
    }
   ],
   "source": [
    "spy = yf.download('SPY', period='1wk', interval='1m')\n",
    "if isinstance(spy.columns, pd.MultiIndex):\n",
    "    spy.columns = spy.columns.get_level_values(0)\n",
    "spy['Volume'].mean()\n",
    "print(spy)"
   ]
  },
  {
   "cell_type": "code",
   "execution_count": 76,
   "id": "1d2f8c38",
   "metadata": {},
   "outputs": [
    {
     "name": "stdout",
     "output_type": "stream",
     "text": [
      "Price\n",
      "Close     float64\n",
      "High      float64\n",
      "Low       float64\n",
      "Open      float64\n",
      "Volume      int64\n",
      "dtype: object\n",
      "Price\n",
      "Close     0\n",
      "High      0\n",
      "Low       0\n",
      "Open      0\n",
      "Volume    0\n",
      "dtype: int64\n"
     ]
    },
    {
     "data": {
      "text/plain": [
       "0.01400720272634844"
      ]
     },
     "execution_count": 76,
     "metadata": {},
     "output_type": "execute_result"
    },
    {
     "data": {
      "image/png": "[encoded data removed]",
      "text/plain": [
       "<Figure size 640x480 with 1 Axes>"
      ]
     },
     "metadata": {},
     "output_type": "display_data"
    }
   ],
   "source": [
    "\n",
    "plt.plot(spy['Volume'])\n",
    "print(spy.dtypes)\n",
    "print(spy.isna().sum())\n",
    "spy['Daily Return'] = (spy['Close'] - spy['Open']) / spy['Open']\n",
    "spy['Daily Return'].corr(spy['Volume'])\n"
   ]
  },
  {
   "cell_type": "code",
   "execution_count": 78,
   "id": "ea7fbb0e",
   "metadata": {},
   "outputs": [
    {
     "data": {
      "text/plain": [
       "Datetime\n",
       "2025-06-16 13:30:00+00:00    0\n",
       "2025-06-16 13:31:00+00:00    0\n",
       "2025-06-16 13:32:00+00:00    0\n",
       "2025-06-16 13:33:00+00:00    0\n",
       "2025-06-16 13:34:00+00:00    0\n",
       "                            ..\n",
       "2025-06-20 19:55:00+00:00    1\n",
       "2025-06-20 19:56:00+00:00    1\n",
       "2025-06-20 19:57:00+00:00    1\n",
       "2025-06-20 19:58:00+00:00    1\n",
       "2025-06-20 19:59:00+00:00    1\n",
       "Name: signal, Length: 1543, dtype: int32"
      ]
     },
     "execution_count": 78,
     "metadata": {},
     "output_type": "execute_result"
    }
   ],
   "source": [
    "fast_ma = spy['Close'].rolling(10).mean()\n",
    "slow_ma = spy['Close'].rolling(30).mean()\n",
    "spy['signal'] = np.where(fast_ma > slow_ma, 1 , 0)\n",
    "spy['signal']"
   ]
  },
  {
   "cell_type": "markdown",
   "id": "6562b045",
   "metadata": {},
   "source": [
    "spy['return'] = np.log(spy['Close']).shift(-1)\n",
    "spy['strategy return'] = spy['signal'] * spy['return'] \n",
    "r = spy['strategy_return']"
   ]
  },
  {
   "cell_type": "markdown",
   "id": "1bcf19a6",
   "metadata": {},
   "source": []
  },
  {
   "cell_type": "code",
   "execution_count": 55,
   "id": "f706774e",
   "metadata": {},
   "outputs": [
    {
     "name": "stdout",
     "output_type": "stream",
     "text": [
      "                            OLS Regression Results                            \n",
      "==============================================================================\n",
      "Dep. Variable:           Daily Return   R-squared:                       0.002\n",
      "Model:                            OLS   Adj. R-squared:                  0.002\n",
      "Method:                 Least Squares   F-statistic:                     13.33\n",
      "Date:                Sun, 22 Jun 2025   Prob (F-statistic):           0.000263\n",
      "Time:                        16:14:54   Log-Likelihood:                 26264.\n",
      "No. Observations:                8154   AIC:                        -5.252e+04\n",
      "Df Residuals:                    8152   BIC:                        -5.251e+04\n",
      "Df Model:                           1                                         \n",
      "Covariance Type:            nonrobust                                         \n",
      "==============================================================================\n",
      "                 coef    std err          t      P>|t|      [0.025      0.975]\n",
      "------------------------------------------------------------------------------\n",
      "const          0.0004      0.000      2.959      0.003       0.000       0.001\n",
      "Volume     -4.314e-12   1.18e-12     -3.651      0.000   -6.63e-12      -2e-12\n",
      "==============================================================================\n",
      "Omnibus:                     1514.240   Durbin-Watson:                   2.150\n",
      "Prob(Omnibus):                  0.000   Jarque-Bera (JB):            36504.078\n",
      "Skew:                           0.211   Prob(JB):                         0.00\n",
      "Kurtosis:                      13.357   Cond. No.                     1.67e+08\n",
      "==============================================================================\n",
      "\n",
      "Notes:\n",
      "[1] Standard Errors assume that the covariance matrix of the errors is correctly specified.\n",
      "[2] The condition number is large, 1.67e+08. This might indicate that there are\n",
      "strong multicollinearity or other numerical problems.\n"
     ]
    }
   ],
   "source": [
    "import statsmodels.api as sm\n",
    "\n",
    "x = spy['Volume']\n",
    "y = spy['Daily Return']\n",
    "\n",
    "X = sm.add_constant(x)\n",
    "model = sm.OLS(y,X).fit()\n",
    "print(model.summary())"
   ]
  }
 ],
 "metadata": {
  "kernelspec": {
   "display_name": "base",
   "language": "python",
   "name": "python3"
  },
  "language_info": {
   "codemirror_mode": {
    "name": "ipython",
    "version": 3
   },
   "file_extension": ".py",
   "mimetype": "text/x-python",
   "name": "python",
   "nbconvert_exporter": "python",
   "pygments_lexer": "ipython3",
   "version": "3.12.7"
  }
 },
 "nbformat": 4,
 "nbformat_minor": 5
}
