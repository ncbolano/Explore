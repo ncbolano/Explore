{
 "cells": [
  {
   "cell_type": "code",
   "execution_count": 1,
   "id": "4ea76f71",
   "metadata": {},
   "outputs": [
    {
     "ename": "NameError",
     "evalue": "name 'train' is not defined",
     "output_type": "error",
     "traceback": [
      "\u001b[1;31m---------------------------------------------------------------------------\u001b[0m",
      "\u001b[1;31mNameError\u001b[0m                                 Traceback (most recent call last)",
      "Cell \u001b[1;32mIn[1], line 6\u001b[0m\n\u001b[0;32m      3\u001b[0m d_period \u001b[38;5;241m=\u001b[39m \u001b[38;5;241m6\u001b[39m\n\u001b[0;32m      5\u001b[0m \u001b[38;5;66;03m# Calculate rolling high and low\u001b[39;00m\n\u001b[1;32m----> 6\u001b[0m lowest_low \u001b[38;5;241m=\u001b[39m train[\u001b[38;5;124m'\u001b[39m\u001b[38;5;124mLow\u001b[39m\u001b[38;5;124m'\u001b[39m]\u001b[38;5;241m.\u001b[39mrolling(window\u001b[38;5;241m=\u001b[39mk_period)\u001b[38;5;241m.\u001b[39mmin()\n\u001b[0;32m      7\u001b[0m highest_high \u001b[38;5;241m=\u001b[39m train[\u001b[38;5;124m'\u001b[39m\u001b[38;5;124mHigh\u001b[39m\u001b[38;5;124m'\u001b[39m]\u001b[38;5;241m.\u001b[39mrolling(window\u001b[38;5;241m=\u001b[39mk_period)\u001b[38;5;241m.\u001b[39mmax()\n\u001b[0;32m      9\u001b[0m \u001b[38;5;66;03m# %K calculation (stochastic oscillator)\u001b[39;00m\n",
      "\u001b[1;31mNameError\u001b[0m: name 'train' is not defined"
     ]
    }
   ],
   "source": [
    "# Define window length\n",
    "k_period = 10\n",
    "d_period = 6\n",
    "\n",
    "# Calculate rolling high and low\n",
    "lowest_low = train['Low'].rolling(window=k_period).min()\n",
    "highest_high = train['High'].rolling(window=k_period).max()\n",
    "\n",
    "# %K calculation (stochastic oscillator)\n",
    "train['%K'] = 100 * (train['Close'] - lowest_low) / (highest_high - lowest_low)\n",
    "\n",
    "# %D is the 6-period simple moving average of %K\n",
    "train['%D'] = train['%K'].rolling(window=d_period).mean()\n",
    "\n",
    "train[\"%R\"] = -100 * (highest_high - train['Close']) / (highest_high - lowest_low)\n",
    "\n",
    "\n",
    "# Generate trading signal based on conditions\n",
    "train['position'] = ((train['%D'] < 20) & (train['%R'] < -80)).astype(int)\n"
   ]
  }
 ],
 "metadata": {
  "kernelspec": {
   "display_name": "base",
   "language": "python",
   "name": "python3"
  },
  "language_info": {
   "codemirror_mode": {
    "name": "ipython",
    "version": 3
   },
   "file_extension": ".py",
   "mimetype": "text/x-python",
   "name": "python",
   "nbconvert_exporter": "python",
   "pygments_lexer": "ipython3",
   "version": "3.12.7"
  }
 },
 "nbformat": 4,
 "nbformat_minor": 5
}
