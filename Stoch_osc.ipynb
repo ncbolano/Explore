{
 "cells": [
  {
   "cell_type": "code",
   "execution_count": 42,
   "id": "4ea76f71",
   "metadata": {},
   "outputs": [
    {
     "name": "stderr",
     "output_type": "stream",
     "text": [
      "[*********************100%***********************]  1 of 1 completed"
     ]
    },
    {
     "name": "stdout",
     "output_type": "stream",
     "text": [
      "Price           Close         %D         %R\n",
      "Ticker           SPLG                      \n",
      "Date                                       \n",
      "2025-01-13  70.062042  64.012853 -30.002528\n",
      "2025-01-20  71.278084  64.520636  -8.153399\n",
      "2025-01-27  70.570389  66.921934 -25.179740\n",
      "2025-02-03  70.450775  67.915791 -28.057509\n",
      "2025-02-10  71.487404  73.413964  -3.809433\n",
      "2025-02-17  70.361061  78.340654 -34.753466\n",
      "2025-02-24  69.663338  74.933008 -50.448405\n",
      "2025-03-03  67.530273  63.203050 -78.533143\n",
      "2025-03-10  65.985298  54.146658 -79.518095\n",
      "2025-03-17  66.354103  46.395429 -74.564885\n",
      "2025-03-24  65.157997  31.925483 -90.629107\n",
      "2025-03-31  59.450001  21.117694 -99.600199\n",
      "2025-04-07  62.799999  19.564689 -59.766439\n",
      "2025-04-14  61.919998  21.729842 -65.542225\n",
      "2025-04-21  64.739998  27.143944 -47.033480\n",
      "2025-04-28  66.639999  34.740045 -28.988278\n",
      "2025-05-05  66.379997  45.280542 -27.386127\n",
      "2025-05-12  69.900002  61.842869  -0.226235\n",
      "2025-05-19  68.129997  69.412307 -14.349814\n",
      "2025-05-26  69.353104  79.467925  -5.208514\n"
     ]
    },
    {
     "name": "stderr",
     "output_type": "stream",
     "text": [
      "\n"
     ]
    }
   ],
   "source": [
    "import pandas as pd\n",
    "import yfinance as yf\n",
    "\n",
    "splg = yf.download('SPLG', period='1y', interval='1wk')\n",
    "\n",
    "# Define window length\n",
    "k_period = 10\n",
    "d_period = 6\n",
    "\n",
    "# Calculate rolling high and low\n",
    "lowest_low = splg['Low'].rolling(window=k_period).min()\n",
    "highest_high = splg['High'].rolling(window=k_period).max()\n",
    "\n",
    "# %K calculation (stochastic oscillator)\n",
    "splg['%K'] = 100 * (splg['Close'] - lowest_low) / (highest_high - lowest_low)\n",
    "\n",
    "# %D is the 6-period simple moving average of %K\n",
    "splg['%D'] = splg['%K'].rolling(window=d_period).mean()\n",
    "\n",
    "splg[\"%R\"] = -100 * (highest_high - splg['Close']) / (highest_high - lowest_low)\n",
    "\n",
    "print(splg[['Close', '%D', '%R']].tail(20))\n",
    "\n"
   ]
  }
 ],
 "metadata": {
  "kernelspec": {
   "display_name": "base",
   "language": "python",
   "name": "python3"
  },
  "language_info": {
   "codemirror_mode": {
    "name": "ipython",
    "version": 3
   },
   "file_extension": ".py",
   "mimetype": "text/x-python",
   "name": "python",
   "nbconvert_exporter": "python",
   "pygments_lexer": "ipython3",
   "version": "3.12.7"
  }
 },
 "nbformat": 4,
 "nbformat_minor": 5
}
