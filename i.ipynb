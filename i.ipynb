{
 "cells": [
  {
   "cell_type": "code",
   "execution_count": 37,
   "id": "40630925",
   "metadata": {},
   "outputs": [],
   "source": [
    "import pandas as pd\n",
    "import numpy as np\n",
    "import matplotlib.pyplot as plt\n",
    "import requests\n",
    "from pandas.tseries.offsets import WeekOfMonth\n",
    "import yfinance as yf\n",
    "from matplotlib import pyplot as plt"
   ]
  },
  {
   "cell_type": "code",
   "execution_count": 18,
   "id": "8d08521a",
   "metadata": {},
   "outputs": [
    {
     "name": "stdout",
     "output_type": "stream",
     "text": [
      "dict_keys(['Meta Data', 'Time Series (Daily)'])\n"
     ]
    }
   ],
   "source": [
    "url = 'https://www.alphavantage.co/query?function=TIME_SERIES_DAILY&symbol=IBM&apikey=TOCSQOEICANPSSMA'\n",
    "r = requests.get(url)\n",
    "data = r.json()\n",
    "\n",
    "print(data.keys())\n",
    "\n"
   ]
  },
  {
   "cell_type": "code",
   "execution_count": null,
   "id": "e96cf4b6",
   "metadata": {},
   "outputs": [
    {
     "name": "stdout",
     "output_type": "stream",
     "text": [
      "2025-05-23\n",
      "             1. open   2. high    3. low  4. close 5. volume\n",
      "2025-05-23  258.5800  259.8696  255.7900  258.6300   2722721\n",
      "2025-05-22  260.7700  261.2711  257.9100  258.3700   3091253\n",
      "2025-05-21  264.9700  265.6499  260.4100  260.8700   3753904\n",
      "2025-05-20  267.4000  269.2800  265.6201  266.9500   2437860\n",
      "2025-05-19  265.4500  269.1350  265.0800  268.4100   3198903\n",
      "...              ...       ...       ...       ...       ...\n",
      "2025-01-06  223.0000  224.3500  220.7500  222.6700   2847128\n",
      "2025-01-03  220.5500  223.6600  220.5500  222.6500   3873578\n",
      "2025-01-02  221.8200  222.4900  217.6000  219.9400   2579498\n",
      "2024-12-31  220.7200  221.0493  218.4400  219.8300   2270512\n",
      "2024-12-30  220.5400  221.5942  217.6523  220.2500   2095565\n",
      "\n",
      "[100 rows x 5 columns]\n"
     ]
    }
   ],
   "source": [
    "first_date = list(data['Time Series (Daily)'].keys())[0]\n",
    "print(first_date)\n",
    "df = pd.DataFrame(data['Time Series (Daily)']).T\n",
    "print(df)\n",
    "df.columns = ['open', 'high', 'low', 'close', 'volume']"
   ]
  },
  {
   "cell_type": "code",
   "execution_count": null,
   "id": "d4a010ae",
   "metadata": {},
   "outputs": [],
   "source": [
    "ma_10 = df['close'].rolling(10).mean()\n",
    "ma_30 = df['close'].rolling(10).mean()\n",
    "\n",
    "df['signal'] = np.where"
   ]
  }
 ],
 "metadata": {
  "kernelspec": {
   "display_name": "base",
   "language": "python",
   "name": "python3"
  },
  "language_info": {
   "codemirror_mode": {
    "name": "ipython",
    "version": 3
   },
   "file_extension": ".py",
   "mimetype": "text/x-python",
   "name": "python",
   "nbconvert_exporter": "python",
   "pygments_lexer": "ipython3",
   "version": "3.12.7"
  }
 },
 "nbformat": 4,
 "nbformat_minor": 5
}
